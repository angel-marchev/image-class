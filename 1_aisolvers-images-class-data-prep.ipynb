{
 "cells": [
  {
   "cell_type": "markdown",
   "metadata": {},
   "source": [
    "### Set dependancies"
   ]
  },
  {
   "cell_type": "code",
   "execution_count": 47,
   "metadata": {
    "ExecuteTime": {
     "end_time": "2020-07-23T14:02:34.700568Z",
     "start_time": "2020-07-23T14:02:34.546657Z"
    }
   },
   "outputs": [],
   "source": [
    "%reset -f\n",
    "\n",
    "import os\n",
    "import shutil \n",
    "from shutil import copyfile\n",
    "import numpy as np\n",
    "import random\n",
    "\n",
    "import cv2\n",
    "import glob\n",
    "\n",
    "from IPython.core.interactiveshell import InteractiveShell\n",
    "InteractiveShell.ast_node_interactivity = \"all\""
   ]
  },
  {
   "cell_type": "markdown",
   "metadata": {},
   "source": [
    "### Split images to train and validation subdirs"
   ]
  },
  {
   "cell_type": "code",
   "execution_count": 48,
   "metadata": {
    "ExecuteTime": {
     "end_time": "2020-07-23T14:05:34.106736Z",
     "start_time": "2020-07-23T14:05:34.093701Z"
    },
    "code_folding": []
   },
   "outputs": [],
   "source": [
    "def img_train_test_split(img_source_dir, train_size):\n",
    "    \n",
    "    # Set up empty folder structure if not exists\n",
    "    if not os.path.exists('data'):\n",
    "        os.makedirs('data')\n",
    "    else:\n",
    "        if not os.path.exists('data/train'):\n",
    "            os.makedirs('data/train')\n",
    "        if not os.path.exists('data/validation'):\n",
    "            os.makedirs('data/validation')\n",
    "            \n",
    "    # Get the subdirectories in the main image folder\n",
    "    subdirs = [subdir for subdir in os.listdir(img_source_dir) if os.path.isdir(os.path.join(img_source_dir, subdir))]\n",
    "\n",
    "    for subdir in subdirs:\n",
    "        subdir_fullpath = os.path.join(img_source_dir, subdir)\n",
    "        if len(os.listdir(subdir_fullpath)) == 0:\n",
    "            print(subdir_fullpath + ' is empty')\n",
    "            break\n",
    "\n",
    "        train_subdir = os.path.join('data/train', subdir)\n",
    "        validation_subdir = os.path.join('data/validation', subdir)\n",
    "\n",
    "        # Create subdirectories in train and validation folders\n",
    "        if not os.path.exists(train_subdir):\n",
    "            os.makedirs(train_subdir)\n",
    "\n",
    "        if not os.path.exists(validation_subdir):\n",
    "            os.makedirs(validation_subdir)\n",
    "\n",
    "        train_counter = 0\n",
    "        validation_counter = 0\n",
    "\n",
    "        # Randomly assign an image to train or validation folder\n",
    "        for filename in os.listdir(subdir_fullpath):\n",
    "            if filename.endswith(\".jpg\") or filename.endswith(\".png\"): \n",
    "                fileparts = filename.split('.')\n",
    "\n",
    "                if random.uniform(0, 1) <= train_size:\n",
    "                    copyfile(os.path.join(subdir_fullpath, filename), os.path.join(train_subdir, 'train' + str(train_counter) + '.' + fileparts[1]))\n",
    "                    train_counter += 1\n",
    "                else:\n",
    "                    copyfile(os.path.join(subdir_fullpath, filename), os.path.join(validation_subdir, 'valid' + str(validation_counter) + '.' + fileparts[1]))\n",
    "                    validation_counter += 1\n",
    "                    \n",
    "        print('Copied ' + str(train_counter) + ' images to data/train/' + subdir)\n",
    "        print('Copied ' + str(validation_counter) + ' images to data/validation/' + subdir)\n",
    "        \n"
   ]
  },
  {
   "cell_type": "code",
   "execution_count": 49,
   "metadata": {
    "ExecuteTime": {
     "end_time": "2020-07-23T14:05:54.728573Z",
     "start_time": "2020-07-23T14:05:54.721053Z"
    }
   },
   "outputs": [
    {
     "name": "stdout",
     "output_type": "stream",
     "text": [
      "['A', 'B', 'C', 'D', 'E', 'F', 'G', 'H', 'I']\n"
     ]
    }
   ],
   "source": [
    "os.chdir(\"/\")\n",
    "img_source_dir='images/'\n",
    "\n",
    "# Get the subdirectories in the main image folder\n",
    "subdirs = [subdir for subdir in os.listdir(img_source_dir) if os.path.isdir(os.path.join(img_source_dir, subdir))]\n",
    "subdirs\n",
    "\n",
    "print (subdirs)"
   ]
  },
  {
   "cell_type": "code",
   "execution_count": 50,
   "metadata": {
    "ExecuteTime": {
     "end_time": "2020-07-23T14:06:12.307331Z",
     "start_time": "2020-07-23T14:06:11.359813Z"
    }
   },
   "outputs": [],
   "source": [
    "try:\n",
    "    shutil.rmtree('./data')\n",
    "except OSError as e:\n",
    "    print(\"Error: %s - %s.\" % (e.filename, e.strerror))"
   ]
  },
  {
   "cell_type": "code",
   "execution_count": 51,
   "metadata": {
    "ExecuteTime": {
     "end_time": "2020-07-23T14:06:25.491391Z",
     "start_time": "2020-07-23T14:06:25.487379Z"
    }
   },
   "outputs": [],
   "source": [
    "train_dir = os.path.join('./data', 'train')\n",
    "validation_dir = os.path.join('./data', 'validation')"
   ]
  },
  {
   "cell_type": "code",
   "execution_count": 52,
   "metadata": {
    "ExecuteTime": {
     "end_time": "2020-07-23T14:06:49.877738Z",
     "start_time": "2020-07-23T14:06:49.873226Z"
    }
   },
   "outputs": [],
   "source": [
    "for i in range(len(subdirs)):\n",
    "    globals()['train_'+subdirs[i]+'_dir'] = os.path.join(train_dir, subdirs[i])\n",
    "    globals()['validation_'+subdirs[i]+'_dir'] = os.path.join(validation_dir, subdirs[i])"
   ]
  },
  {
   "cell_type": "code",
   "execution_count": 55,
   "metadata": {
    "ExecuteTime": {
     "end_time": "2020-07-23T14:08:09.613272Z",
     "start_time": "2020-07-23T14:08:09.609260Z"
    }
   },
   "outputs": [],
   "source": [
    "train_size=0.8\n",
    "IMG_HEIGHT = 200\n",
    "IMG_WIDTH = 200"
   ]
  },
  {
   "cell_type": "code",
   "execution_count": 56,
   "metadata": {
    "ExecuteTime": {
     "end_time": "2020-07-23T14:08:34.167063Z",
     "start_time": "2020-07-23T14:08:32.688633Z"
    }
   },
   "outputs": [
    {
     "name": "stdout",
     "output_type": "stream",
     "text": [
      "Copied 89 images to data/train/A\n",
      "Copied 0 images to data/validation/A\n",
      "Copied 149 images to data/train/B\n",
      "Copied 0 images to data/validation/B\n",
      "Copied 73 images to data/train/C\n",
      "Copied 0 images to data/validation/C\n",
      "Copied 66 images to data/train/D\n",
      "Copied 0 images to data/validation/D\n",
      "Copied 197 images to data/train/E\n",
      "Copied 0 images to data/validation/E\n",
      "Copied 104 images to data/train/F\n",
      "Copied 0 images to data/validation/F\n",
      "Copied 130 images to data/train/G\n",
      "Copied 0 images to data/validation/G\n",
      "Copied 26 images to data/train/H\n",
      "Copied 0 images to data/validation/H\n",
      "Copied 172 images to data/train/I\n",
      "Copied 0 images to data/validation/I\n"
     ]
    }
   ],
   "source": [
    "img_train_test_split(img_source_dir, train_size)"
   ]
  },
  {
   "cell_type": "markdown",
   "metadata": {},
   "source": [
    "### Create list of files from folders with corresponing classes"
   ]
  },
  {
   "cell_type": "code",
   "execution_count": 57,
   "metadata": {
    "ExecuteTime": {
     "end_time": "2020-07-23T14:09:51.545838Z",
     "start_time": "2020-07-23T14:09:51.537314Z"
    }
   },
   "outputs": [],
   "source": [
    "def label_files_indirs(subdirs, img_source_dir):\n",
    "# create labels from images stored in dirs\n",
    "# inputs:\n",
    "# subdirs - list of subdirs (classes)\n",
    "# img_source_dir - main directory, containting subdirs\n",
    "# outputs:\n",
    "# labels - array of consecutive labels (starting from 0, 1, 2... etc.)\n",
    "    file_num=np.zeros(len(subdirs))\n",
    "    labelled=[]\n",
    "    labels=[]\n",
    "    for i in range(len(subdirs)):\n",
    "        mypath=str(img_source_dir+'/'+subdirs[i])\n",
    "        file_num[i]=len([f for f in os.listdir(mypath) if f.endswith('.png') and os.path.isfile(os.path.join(mypath, f))])\n",
    "        labelled=np.full((1,int(file_num[i])), i)\n",
    "        labels=np.append(labels,labelled)\n",
    "    return labels"
   ]
  },
  {
   "cell_type": "code",
   "execution_count": 58,
   "metadata": {
    "ExecuteTime": {
     "end_time": "2020-07-23T14:10:19.715746Z",
     "start_time": "2020-07-23T14:10:19.617486Z"
    }
   },
   "outputs": [],
   "source": [
    "y_train=label_files_indirs(subdirs, train_dir)\n",
    "y_test=label_files_indirs(subdirs, validation_dir)"
   ]
  },
  {
   "cell_type": "markdown",
   "metadata": {},
   "source": [
    "### Read images into numpy arrays"
   ]
  },
  {
   "cell_type": "code",
   "execution_count": 61,
   "metadata": {
    "ExecuteTime": {
     "end_time": "2020-07-23T14:13:45.341548Z",
     "start_time": "2020-07-23T14:13:45.333527Z"
    }
   },
   "outputs": [],
   "source": [
    "def im2npa(imagedir, subdirs, show):\n",
    "# create numpy array from directory of images\n",
    "# inputs:\n",
    "# imagedir - directory with the images\n",
    "# subdirs - list of subdirs (classes)\n",
    "# show - if=1, plot files and file names\n",
    "# outputs:\n",
    "# data - numpy array variable with all images as tensor\n",
    "    data = []\n",
    "    for i in range(len(subdirs)):\n",
    "        pathis=os.path.join(imagedir, subdirs[i],\"*.png\")\n",
    "        files = glob.glob(pathis)\n",
    "        for myFile in files:\n",
    "            image = cv2.imread (myFile, cv2.IMREAD_UNCHANGED)\n",
    "            image = cv2.cvtColor(image, cv2.COLOR_BGR2RGB)\n",
    "            image = cv2.resize(image, (IMG_HEIGHT,IMG_WIDTH))\n",
    "            data.append (image)\n",
    "            if show==1:\n",
    "                print(myFile)\n",
    "                imgplot = plt.imshow(image)\n",
    "                plt.show()\n",
    "    \n",
    "    data=np.asarray(data)\n",
    "    print('Data shape:', data.shape)\n",
    "    return data"
   ]
  },
  {
   "cell_type": "code",
   "execution_count": 62,
   "metadata": {
    "ExecuteTime": {
     "end_time": "2020-07-23T14:14:01.242832Z",
     "start_time": "2020-07-23T14:13:58.304520Z"
    }
   },
   "outputs": [
    {
     "name": "stdout",
     "output_type": "stream",
     "text": [
      "Data shape: (1006, 200, 200, 3)\n"
     ]
    }
   ],
   "source": [
    "x_test=im2npa('./data/validation/', subdirs ,0)\n",
    "x_train=im2npa('./data/train/', subdirs ,0)"
   ]
  },
  {
   "cell_type": "markdown",
   "metadata": {},
   "source": [
    "### Save to .npz"
   ]
  },
  {
   "cell_type": "code",
   "execution_count": 63,
   "metadata": {
    "ExecuteTime": {
     "end_time": "2020-07-23T14:16:47.050826Z",
     "start_time": "2020-07-23T14:16:46.418145Z"
    }
   },
   "outputs": [],
   "source": [
    "np.savez('vetdata.npz', x_train=x_train, x_test=x_test, y_train=y_train, y_test=y_test)"
   ]
  }
 ],
 "metadata": {
  "celltoolbar": "Initialization Cell",
  "hide_input": false,
  "kernelspec": {
   "display_name": "Python 3",
   "language": "python",
   "name": "python3"
  },
  "language_info": {
   "codemirror_mode": {
    "name": "ipython",
    "version": 3
   },
   "file_extension": ".py",
   "mimetype": "text/x-python",
   "name": "python",
   "nbconvert_exporter": "python",
   "pygments_lexer": "ipython3",
   "version": "3.7.6"
  },
  "latex_envs": {
   "LaTeX_envs_menu_present": true,
   "autoclose": false,
   "autocomplete": true,
   "bibliofile": "biblio.bib",
   "cite_by": "apalike",
   "current_citInitial": 1,
   "eqLabelWithNumbers": true,
   "eqNumInitial": 1,
   "hotkeys": {
    "equation": "Ctrl-E",
    "itemize": "Ctrl-I"
   },
   "labels_anchors": false,
   "latex_user_defs": false,
   "report_style_numbering": false,
   "user_envs_cfg": false
  },
  "nbTranslate": {
   "displayLangs": [
    "*"
   ],
   "hotkey": "alt-t",
   "langInMainMenu": true,
   "sourceLang": "en",
   "targetLang": "fr",
   "useGoogleTranslate": true
  },
  "toc": {
   "base_numbering": 1,
   "nav_menu": {},
   "number_sections": true,
   "sideBar": true,
   "skip_h1_title": false,
   "title_cell": "Table of Contents",
   "title_sidebar": "Contents",
   "toc_cell": false,
   "toc_position": {},
   "toc_section_display": true,
   "toc_window_display": false
  },
  "varInspector": {
   "cols": {
    "lenName": 16,
    "lenType": 16,
    "lenVar": 40
   },
   "kernels_config": {
    "python": {
     "delete_cmd_postfix": "",
     "delete_cmd_prefix": "del ",
     "library": "var_list.py",
     "varRefreshCmd": "print(var_dic_list())"
    },
    "r": {
     "delete_cmd_postfix": ") ",
     "delete_cmd_prefix": "rm(",
     "library": "var_list.r",
     "varRefreshCmd": "cat(var_dic_list()) "
    }
   },
   "oldHeight": 538.625,
   "position": {
    "height": "40px",
    "left": "700.323px",
    "right": "20px",
    "top": "112px",
    "width": "419.969px"
   },
   "types_to_exclude": [
    "module",
    "function",
    "builtin_function_or_method",
    "instance",
    "_Feature"
   ],
   "varInspector_section_display": "none",
   "window_display": true
  }
 },
 "nbformat": 4,
 "nbformat_minor": 4
}
