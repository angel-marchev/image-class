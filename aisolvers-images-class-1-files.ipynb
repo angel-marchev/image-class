{
 "cells": [
  {
   "cell_type": "markdown",
   "metadata": {
    "heading_collapsed": true
   },
   "source": [
    "### Set dependancies"
   ]
  },
  {
   "cell_type": "code",
   "execution_count": 47,
   "metadata": {
    "ExecuteTime": {
     "end_time": "2020-07-23T14:02:34.700568Z",
     "start_time": "2020-07-23T14:02:34.546657Z"
    },
    "hidden": true
   },
   "outputs": [],
   "source": [
    "%reset -f\n",
    "\n",
    "import os\n",
    "import shutil \n",
    "from shutil import copyfile\n",
    "import numpy as np\n",
    "import random\n",
    "\n",
    "import cv2\n",
    "import glob"
   ]
  },
  {
   "cell_type": "markdown",
   "metadata": {
    "heading_collapsed": true
   },
   "source": [
    "### Split images to train and validation subdirs"
   ]
  },
  {
   "cell_type": "code",
   "execution_count": 48,
   "metadata": {
    "ExecuteTime": {
     "end_time": "2020-07-23T14:05:34.106736Z",
     "start_time": "2020-07-23T14:05:34.093701Z"
    },
    "code_folding": [],
    "hidden": true
   },
   "outputs": [],
   "source": [
    "def img_train_test_split(img_source_dir, train_size):\n",
    "    \n",
    "    # Set up empty folder structure if not exists\n",
    "    if not os.path.exists('data'):\n",
    "        os.makedirs('data')\n",
    "    else:\n",
    "        if not os.path.exists('data/train'):\n",
    "            os.makedirs('data/train')\n",
    "        if not os.path.exists('data/validation'):\n",
    "            os.makedirs('data/validation')\n",
    "            \n",
    "    # Get the subdirectories in the main image folder\n",
    "    subdirs = [subdir for subdir in os.listdir(img_source_dir) if os.path.isdir(os.path.join(img_source_dir, subdir))]\n",
    "\n",
    "    for subdir in subdirs:\n",
    "        subdir_fullpath = os.path.join(img_source_dir, subdir)\n",
    "        if len(os.listdir(subdir_fullpath)) == 0:\n",
    "            print(subdir_fullpath + ' is empty')\n",
    "            break\n",
    "\n",
    "        train_subdir = os.path.join('data/train', subdir)\n",
    "        validation_subdir = os.path.join('data/validation', subdir)\n",
    "\n",
    "        # Create subdirectories in train and validation folders\n",
    "        if not os.path.exists(train_subdir):\n",
    "            os.makedirs(train_subdir)\n",
    "\n",
    "        if not os.path.exists(validation_subdir):\n",
    "            os.makedirs(validation_subdir)\n",
    "\n",
    "        train_counter = 0\n",
    "        validation_counter = 0\n",
    "\n",
    "        # Randomly assign an image to train or validation folder\n",
    "        for filename in os.listdir(subdir_fullpath):\n",
    "            if filename.endswith(\".jpg\") or filename.endswith(\".png\"): \n",
    "                fileparts = filename.split('.')\n",
    "\n",
    "                if random.uniform(0, 1) <= train_size:\n",
    "                    copyfile(os.path.join(subdir_fullpath, filename), os.path.join(train_subdir, 'train' + str(train_counter) + '.' + fileparts[1]))\n",
    "                    train_counter += 1\n",
    "                else:\n",
    "                    copyfile(os.path.join(subdir_fullpath, filename), os.path.join(validation_subdir, 'valid' + str(validation_counter) + '.' + fileparts[1]))\n",
    "                    validation_counter += 1\n",
    "                    \n",
    "        print('Copied ' + str(train_counter) + ' images to data/train/' + subdir)\n",
    "        print('Copied ' + str(validation_counter) + ' images to data/validation/' + subdir)\n",
    "        \n"
   ]
  },
  {
   "cell_type": "code",
   "execution_count": 49,
   "metadata": {
    "ExecuteTime": {
     "end_time": "2020-07-23T14:05:54.728573Z",
     "start_time": "2020-07-23T14:05:54.721053Z"
    },
    "hidden": true
   },
   "outputs": [
    {
     "name": "stdout",
     "output_type": "stream",
     "text": [
      "['A', 'B', 'C', 'D', 'E', 'F', 'G', 'H', 'I']\n"
     ]
    }
   ],
   "source": [
    "os.chdir(\"C:/Users/Junior/anaconda_projects/image_classification/aisolvers/\")\n",
    "img_source_dir='images/'\n",
    "\n",
    "# Get the subdirectories in the main image folder\n",
    "subdirs = [subdir for subdir in os.listdir(img_source_dir) if os.path.isdir(os.path.join(img_source_dir, subdir))]\n",
    "subdirs\n",
    "\n",
    "print (subdirs)"
   ]
  },
  {
   "cell_type": "code",
   "execution_count": 50,
   "metadata": {
    "ExecuteTime": {
     "end_time": "2020-07-23T14:06:12.307331Z",
     "start_time": "2020-07-23T14:06:11.359813Z"
    },
    "hidden": true
   },
   "outputs": [],
   "source": [
    "try:\n",
    "    shutil.rmtree('./data')\n",
    "except OSError as e:\n",
    "    print(\"Error: %s - %s.\" % (e.filename, e.strerror))"
   ]
  },
  {
   "cell_type": "code",
   "execution_count": 51,
   "metadata": {
    "ExecuteTime": {
     "end_time": "2020-07-23T14:06:25.491391Z",
     "start_time": "2020-07-23T14:06:25.487379Z"
    },
    "hidden": true
   },
   "outputs": [],
   "source": [
    "train_dir = os.path.join('./data', 'train')\n",
    "validation_dir = os.path.join('./data', 'validation')"
   ]
  },
  {
   "cell_type": "code",
   "execution_count": 52,
   "metadata": {
    "ExecuteTime": {
     "end_time": "2020-07-23T14:06:49.877738Z",
     "start_time": "2020-07-23T14:06:49.873226Z"
    },
    "hidden": true
   },
   "outputs": [],
   "source": [
    "for i in range(len(subdirs)):\n",
    "    globals()['train_'+subdirs[i]+'_dir'] = os.path.join(train_dir, subdirs[i])\n",
    "    globals()['validation_'+subdirs[i]+'_dir'] = os.path.join(validation_dir, subdirs[i])"
   ]
  },
  {
   "cell_type": "code",
   "execution_count": 55,
   "metadata": {
    "ExecuteTime": {
     "end_time": "2020-07-23T14:08:09.613272Z",
     "start_time": "2020-07-23T14:08:09.609260Z"
    },
    "hidden": true
   },
   "outputs": [],
   "source": [
    "train_size=1\n",
    "IMG_HEIGHT = 200\n",
    "IMG_WIDTH = 200"
   ]
  },
  {
   "cell_type": "code",
   "execution_count": 56,
   "metadata": {
    "ExecuteTime": {
     "end_time": "2020-07-23T14:08:34.167063Z",
     "start_time": "2020-07-23T14:08:32.688633Z"
    },
    "hidden": true
   },
   "outputs": [
    {
     "name": "stdout",
     "output_type": "stream",
     "text": [
      "Copied 89 images to data/train/A\n",
      "Copied 0 images to data/validation/A\n",
      "Copied 149 images to data/train/B\n",
      "Copied 0 images to data/validation/B\n",
      "Copied 73 images to data/train/C\n",
      "Copied 0 images to data/validation/C\n",
      "Copied 66 images to data/train/D\n",
      "Copied 0 images to data/validation/D\n",
      "Copied 197 images to data/train/E\n",
      "Copied 0 images to data/validation/E\n",
      "Copied 104 images to data/train/F\n",
      "Copied 0 images to data/validation/F\n",
      "Copied 130 images to data/train/G\n",
      "Copied 0 images to data/validation/G\n",
      "Copied 26 images to data/train/H\n",
      "Copied 0 images to data/validation/H\n",
      "Copied 172 images to data/train/I\n",
      "Copied 0 images to data/validation/I\n"
     ]
    }
   ],
   "source": [
    "img_train_test_split(img_source_dir, train_size)"
   ]
  },
  {
   "cell_type": "markdown",
   "metadata": {
    "heading_collapsed": true
   },
   "source": [
    "### Create list of files from folders with corresponing classes"
   ]
  },
  {
   "cell_type": "code",
   "execution_count": 57,
   "metadata": {
    "ExecuteTime": {
     "end_time": "2020-07-23T14:09:51.545838Z",
     "start_time": "2020-07-23T14:09:51.537314Z"
    },
    "hidden": true
   },
   "outputs": [],
   "source": [
    "def label_files_indirs(subdirs, img_source_dir):\n",
    "# create labels from images stored in dirs\n",
    "# inputs:\n",
    "# subdirs - list of subdirs (classes)\n",
    "# img_source_dir - main directory, containting subdirs\n",
    "# outputs:\n",
    "# labels - array of consecutive labels (starting from 0, 1, 2... etc.)\n",
    "    file_num=np.zeros(len(subdirs))\n",
    "    labelled=[]\n",
    "    labels=[]\n",
    "    for i in range(len(subdirs)):\n",
    "        mypath=str(img_source_dir+'/'+subdirs[i])\n",
    "        file_num[i]=len([f for f in os.listdir(mypath) if f.endswith('.png') and os.path.isfile(os.path.join(mypath, f))])\n",
    "        labelled=np.full((1,int(file_num[i])), i)\n",
    "        labels=np.append(labels,labelled)\n",
    "    return labels"
   ]
  },
  {
   "cell_type": "code",
   "execution_count": 58,
   "metadata": {
    "ExecuteTime": {
     "end_time": "2020-07-23T14:10:19.715746Z",
     "start_time": "2020-07-23T14:10:19.617486Z"
    },
    "hidden": true
   },
   "outputs": [],
   "source": [
    "y_train=label_files_indirs(subdirs, train_dir)\n",
    "y_test=y_train\n",
    "#y_test=label_files_indirs(subdirs, validation_dir)"
   ]
  },
  {
   "cell_type": "code",
   "execution_count": 59,
   "metadata": {
    "ExecuteTime": {
     "end_time": "2020-07-23T14:10:46.819822Z",
     "start_time": "2020-07-23T14:10:46.800771Z"
    },
    "hidden": true
   },
   "outputs": [
    {
     "data": {
      "text/plain": [
       "['./data/validation/A\\\\valid0.png',\n",
       " './data/validation/A\\\\valid1.png',\n",
       " './data/validation/A\\\\valid10.png',\n",
       " './data/validation/A\\\\valid11.png',\n",
       " './data/validation/A\\\\valid12.png',\n",
       " './data/validation/A\\\\valid13.png',\n",
       " './data/validation/A\\\\valid14.png',\n",
       " './data/validation/A\\\\valid15.png',\n",
       " './data/validation/A\\\\valid16.png',\n",
       " './data/validation/A\\\\valid17.png',\n",
       " './data/validation/A\\\\valid18.png',\n",
       " './data/validation/A\\\\valid19.png',\n",
       " './data/validation/A\\\\valid2.png',\n",
       " './data/validation/A\\\\valid20.png',\n",
       " './data/validation/A\\\\valid21.png',\n",
       " './data/validation/A\\\\valid22.png',\n",
       " './data/validation/A\\\\valid23.png',\n",
       " './data/validation/A\\\\valid24.png',\n",
       " './data/validation/A\\\\valid25.png',\n",
       " './data/validation/A\\\\valid26.png',\n",
       " './data/validation/A\\\\valid27.png',\n",
       " './data/validation/A\\\\valid28.png',\n",
       " './data/validation/A\\\\valid3.png',\n",
       " './data/validation/A\\\\valid4.png',\n",
       " './data/validation/A\\\\valid5.png',\n",
       " './data/validation/A\\\\valid6.png',\n",
       " './data/validation/A\\\\valid7.png',\n",
       " './data/validation/A\\\\valid8.png',\n",
       " './data/validation/A\\\\valid9.png',\n",
       " './data/validation/B\\\\valid0.png',\n",
       " './data/validation/B\\\\valid1.png',\n",
       " './data/validation/B\\\\valid10.png',\n",
       " './data/validation/B\\\\valid11.png',\n",
       " './data/validation/B\\\\valid12.png',\n",
       " './data/validation/B\\\\valid13.png',\n",
       " './data/validation/B\\\\valid14.png',\n",
       " './data/validation/B\\\\valid15.png',\n",
       " './data/validation/B\\\\valid16.png',\n",
       " './data/validation/B\\\\valid17.png',\n",
       " './data/validation/B\\\\valid18.png',\n",
       " './data/validation/B\\\\valid19.png',\n",
       " './data/validation/B\\\\valid2.png',\n",
       " './data/validation/B\\\\valid20.png',\n",
       " './data/validation/B\\\\valid21.png',\n",
       " './data/validation/B\\\\valid22.png',\n",
       " './data/validation/B\\\\valid23.png',\n",
       " './data/validation/B\\\\valid24.png',\n",
       " './data/validation/B\\\\valid25.png',\n",
       " './data/validation/B\\\\valid26.png',\n",
       " './data/validation/B\\\\valid27.png',\n",
       " './data/validation/B\\\\valid28.png',\n",
       " './data/validation/B\\\\valid29.png',\n",
       " './data/validation/B\\\\valid3.png',\n",
       " './data/validation/B\\\\valid30.png',\n",
       " './data/validation/B\\\\valid31.png',\n",
       " './data/validation/B\\\\valid32.png',\n",
       " './data/validation/B\\\\valid33.png',\n",
       " './data/validation/B\\\\valid34.png',\n",
       " './data/validation/B\\\\valid35.png',\n",
       " './data/validation/B\\\\valid36.png',\n",
       " './data/validation/B\\\\valid37.png',\n",
       " './data/validation/B\\\\valid38.png',\n",
       " './data/validation/B\\\\valid39.png',\n",
       " './data/validation/B\\\\valid4.png',\n",
       " './data/validation/B\\\\valid5.png',\n",
       " './data/validation/B\\\\valid6.png',\n",
       " './data/validation/B\\\\valid7.png',\n",
       " './data/validation/B\\\\valid8.png',\n",
       " './data/validation/B\\\\valid9.png',\n",
       " './data/validation/C\\\\valid0.png',\n",
       " './data/validation/C\\\\valid1.png',\n",
       " './data/validation/C\\\\valid10.png',\n",
       " './data/validation/C\\\\valid11.png',\n",
       " './data/validation/C\\\\valid12.png',\n",
       " './data/validation/C\\\\valid13.png',\n",
       " './data/validation/C\\\\valid14.png',\n",
       " './data/validation/C\\\\valid15.png',\n",
       " './data/validation/C\\\\valid16.png',\n",
       " './data/validation/C\\\\valid17.png',\n",
       " './data/validation/C\\\\valid18.png',\n",
       " './data/validation/C\\\\valid19.png',\n",
       " './data/validation/C\\\\valid2.png',\n",
       " './data/validation/C\\\\valid3.png',\n",
       " './data/validation/C\\\\valid4.png',\n",
       " './data/validation/C\\\\valid5.png',\n",
       " './data/validation/C\\\\valid6.png',\n",
       " './data/validation/C\\\\valid7.png',\n",
       " './data/validation/C\\\\valid8.png',\n",
       " './data/validation/C\\\\valid9.png',\n",
       " './data/validation/D\\\\valid0.png',\n",
       " './data/validation/D\\\\valid1.png',\n",
       " './data/validation/D\\\\valid10.png',\n",
       " './data/validation/D\\\\valid11.png',\n",
       " './data/validation/D\\\\valid12.png',\n",
       " './data/validation/D\\\\valid13.png',\n",
       " './data/validation/D\\\\valid14.png',\n",
       " './data/validation/D\\\\valid15.png',\n",
       " './data/validation/D\\\\valid16.png',\n",
       " './data/validation/D\\\\valid17.png',\n",
       " './data/validation/D\\\\valid18.png',\n",
       " './data/validation/D\\\\valid19.png',\n",
       " './data/validation/D\\\\valid2.png',\n",
       " './data/validation/D\\\\valid20.png',\n",
       " './data/validation/D\\\\valid21.png',\n",
       " './data/validation/D\\\\valid3.png',\n",
       " './data/validation/D\\\\valid4.png',\n",
       " './data/validation/D\\\\valid5.png',\n",
       " './data/validation/D\\\\valid6.png',\n",
       " './data/validation/D\\\\valid7.png',\n",
       " './data/validation/D\\\\valid8.png',\n",
       " './data/validation/D\\\\valid9.png',\n",
       " './data/validation/E\\\\valid0.png',\n",
       " './data/validation/E\\\\valid1.png',\n",
       " './data/validation/E\\\\valid10.png',\n",
       " './data/validation/E\\\\valid11.png',\n",
       " './data/validation/E\\\\valid12.png',\n",
       " './data/validation/E\\\\valid13.png',\n",
       " './data/validation/E\\\\valid14.png',\n",
       " './data/validation/E\\\\valid15.png',\n",
       " './data/validation/E\\\\valid16.png',\n",
       " './data/validation/E\\\\valid17.png',\n",
       " './data/validation/E\\\\valid18.png',\n",
       " './data/validation/E\\\\valid19.png',\n",
       " './data/validation/E\\\\valid2.png',\n",
       " './data/validation/E\\\\valid20.png',\n",
       " './data/validation/E\\\\valid21.png',\n",
       " './data/validation/E\\\\valid22.png',\n",
       " './data/validation/E\\\\valid23.png',\n",
       " './data/validation/E\\\\valid24.png',\n",
       " './data/validation/E\\\\valid25.png',\n",
       " './data/validation/E\\\\valid26.png',\n",
       " './data/validation/E\\\\valid27.png',\n",
       " './data/validation/E\\\\valid28.png',\n",
       " './data/validation/E\\\\valid29.png',\n",
       " './data/validation/E\\\\valid3.png',\n",
       " './data/validation/E\\\\valid30.png',\n",
       " './data/validation/E\\\\valid31.png',\n",
       " './data/validation/E\\\\valid32.png',\n",
       " './data/validation/E\\\\valid33.png',\n",
       " './data/validation/E\\\\valid34.png',\n",
       " './data/validation/E\\\\valid35.png',\n",
       " './data/validation/E\\\\valid36.png',\n",
       " './data/validation/E\\\\valid37.png',\n",
       " './data/validation/E\\\\valid38.png',\n",
       " './data/validation/E\\\\valid39.png',\n",
       " './data/validation/E\\\\valid4.png',\n",
       " './data/validation/E\\\\valid40.png',\n",
       " './data/validation/E\\\\valid41.png',\n",
       " './data/validation/E\\\\valid42.png',\n",
       " './data/validation/E\\\\valid43.png',\n",
       " './data/validation/E\\\\valid44.png',\n",
       " './data/validation/E\\\\valid45.png',\n",
       " './data/validation/E\\\\valid46.png',\n",
       " './data/validation/E\\\\valid47.png',\n",
       " './data/validation/E\\\\valid48.png',\n",
       " './data/validation/E\\\\valid49.png',\n",
       " './data/validation/E\\\\valid5.png',\n",
       " './data/validation/E\\\\valid50.png',\n",
       " './data/validation/E\\\\valid51.png',\n",
       " './data/validation/E\\\\valid52.png',\n",
       " './data/validation/E\\\\valid53.png',\n",
       " './data/validation/E\\\\valid54.png',\n",
       " './data/validation/E\\\\valid6.png',\n",
       " './data/validation/E\\\\valid7.png',\n",
       " './data/validation/E\\\\valid8.png',\n",
       " './data/validation/E\\\\valid9.png',\n",
       " './data/validation/F\\\\valid0.png',\n",
       " './data/validation/F\\\\valid1.png',\n",
       " './data/validation/F\\\\valid10.png',\n",
       " './data/validation/F\\\\valid11.png',\n",
       " './data/validation/F\\\\valid12.png',\n",
       " './data/validation/F\\\\valid13.png',\n",
       " './data/validation/F\\\\valid14.png',\n",
       " './data/validation/F\\\\valid15.png',\n",
       " './data/validation/F\\\\valid16.png',\n",
       " './data/validation/F\\\\valid17.png',\n",
       " './data/validation/F\\\\valid18.png',\n",
       " './data/validation/F\\\\valid19.png',\n",
       " './data/validation/F\\\\valid2.png',\n",
       " './data/validation/F\\\\valid20.png',\n",
       " './data/validation/F\\\\valid21.png',\n",
       " './data/validation/F\\\\valid22.png',\n",
       " './data/validation/F\\\\valid23.png',\n",
       " './data/validation/F\\\\valid24.png',\n",
       " './data/validation/F\\\\valid25.png',\n",
       " './data/validation/F\\\\valid26.png',\n",
       " './data/validation/F\\\\valid27.png',\n",
       " './data/validation/F\\\\valid28.png',\n",
       " './data/validation/F\\\\valid29.png',\n",
       " './data/validation/F\\\\valid3.png',\n",
       " './data/validation/F\\\\valid30.png',\n",
       " './data/validation/F\\\\valid31.png',\n",
       " './data/validation/F\\\\valid32.png',\n",
       " './data/validation/F\\\\valid33.png',\n",
       " './data/validation/F\\\\valid34.png',\n",
       " './data/validation/F\\\\valid35.png',\n",
       " './data/validation/F\\\\valid4.png',\n",
       " './data/validation/F\\\\valid5.png',\n",
       " './data/validation/F\\\\valid6.png',\n",
       " './data/validation/F\\\\valid7.png',\n",
       " './data/validation/F\\\\valid8.png',\n",
       " './data/validation/F\\\\valid9.png',\n",
       " './data/validation/G\\\\valid0.png',\n",
       " './data/validation/G\\\\valid1.png',\n",
       " './data/validation/G\\\\valid10.png',\n",
       " './data/validation/G\\\\valid11.png',\n",
       " './data/validation/G\\\\valid12.png',\n",
       " './data/validation/G\\\\valid13.png',\n",
       " './data/validation/G\\\\valid14.png',\n",
       " './data/validation/G\\\\valid15.png',\n",
       " './data/validation/G\\\\valid16.png',\n",
       " './data/validation/G\\\\valid17.png',\n",
       " './data/validation/G\\\\valid18.png',\n",
       " './data/validation/G\\\\valid19.png',\n",
       " './data/validation/G\\\\valid2.png',\n",
       " './data/validation/G\\\\valid20.png',\n",
       " './data/validation/G\\\\valid21.png',\n",
       " './data/validation/G\\\\valid22.png',\n",
       " './data/validation/G\\\\valid23.png',\n",
       " './data/validation/G\\\\valid24.png',\n",
       " './data/validation/G\\\\valid25.png',\n",
       " './data/validation/G\\\\valid26.png',\n",
       " './data/validation/G\\\\valid27.png',\n",
       " './data/validation/G\\\\valid28.png',\n",
       " './data/validation/G\\\\valid29.png',\n",
       " './data/validation/G\\\\valid3.png',\n",
       " './data/validation/G\\\\valid30.png',\n",
       " './data/validation/G\\\\valid31.png',\n",
       " './data/validation/G\\\\valid32.png',\n",
       " './data/validation/G\\\\valid33.png',\n",
       " './data/validation/G\\\\valid34.png',\n",
       " './data/validation/G\\\\valid35.png',\n",
       " './data/validation/G\\\\valid36.png',\n",
       " './data/validation/G\\\\valid37.png',\n",
       " './data/validation/G\\\\valid38.png',\n",
       " './data/validation/G\\\\valid4.png',\n",
       " './data/validation/G\\\\valid5.png',\n",
       " './data/validation/G\\\\valid6.png',\n",
       " './data/validation/G\\\\valid7.png',\n",
       " './data/validation/G\\\\valid8.png',\n",
       " './data/validation/G\\\\valid9.png',\n",
       " './data/validation/H\\\\valid0.png',\n",
       " './data/validation/H\\\\valid1.png',\n",
       " './data/validation/H\\\\valid2.png',\n",
       " './data/validation/H\\\\valid3.png',\n",
       " './data/validation/H\\\\valid4.png',\n",
       " './data/validation/H\\\\valid5.png',\n",
       " './data/validation/H\\\\valid6.png',\n",
       " './data/validation/I\\\\valid0.png',\n",
       " './data/validation/I\\\\valid1.png',\n",
       " './data/validation/I\\\\valid10.png',\n",
       " './data/validation/I\\\\valid11.png',\n",
       " './data/validation/I\\\\valid12.png',\n",
       " './data/validation/I\\\\valid13.png',\n",
       " './data/validation/I\\\\valid14.png',\n",
       " './data/validation/I\\\\valid15.png',\n",
       " './data/validation/I\\\\valid16.png',\n",
       " './data/validation/I\\\\valid17.png',\n",
       " './data/validation/I\\\\valid18.png',\n",
       " './data/validation/I\\\\valid19.png',\n",
       " './data/validation/I\\\\valid2.png',\n",
       " './data/validation/I\\\\valid20.png',\n",
       " './data/validation/I\\\\valid21.png',\n",
       " './data/validation/I\\\\valid22.png',\n",
       " './data/validation/I\\\\valid23.png',\n",
       " './data/validation/I\\\\valid24.png',\n",
       " './data/validation/I\\\\valid25.png',\n",
       " './data/validation/I\\\\valid26.png',\n",
       " './data/validation/I\\\\valid27.png',\n",
       " './data/validation/I\\\\valid28.png',\n",
       " './data/validation/I\\\\valid29.png',\n",
       " './data/validation/I\\\\valid3.png',\n",
       " './data/validation/I\\\\valid30.png',\n",
       " './data/validation/I\\\\valid31.png',\n",
       " './data/validation/I\\\\valid32.png',\n",
       " './data/validation/I\\\\valid33.png',\n",
       " './data/validation/I\\\\valid34.png',\n",
       " './data/validation/I\\\\valid35.png',\n",
       " './data/validation/I\\\\valid36.png',\n",
       " './data/validation/I\\\\valid37.png',\n",
       " './data/validation/I\\\\valid38.png',\n",
       " './data/validation/I\\\\valid39.png',\n",
       " './data/validation/I\\\\valid4.png',\n",
       " './data/validation/I\\\\valid40.png',\n",
       " './data/validation/I\\\\valid41.png',\n",
       " './data/validation/I\\\\valid42.png',\n",
       " './data/validation/I\\\\valid43.png',\n",
       " './data/validation/I\\\\valid44.png',\n",
       " './data/validation/I\\\\valid45.png',\n",
       " './data/validation/I\\\\valid46.png',\n",
       " './data/validation/I\\\\valid47.png',\n",
       " './data/validation/I\\\\valid48.png',\n",
       " './data/validation/I\\\\valid49.png',\n",
       " './data/validation/I\\\\valid5.png',\n",
       " './data/validation/I\\\\valid50.png',\n",
       " './data/validation/I\\\\valid51.png',\n",
       " './data/validation/I\\\\valid52.png',\n",
       " './data/validation/I\\\\valid53.png',\n",
       " './data/validation/I\\\\valid54.png',\n",
       " './data/validation/I\\\\valid55.png',\n",
       " './data/validation/I\\\\valid56.png',\n",
       " './data/validation/I\\\\valid6.png',\n",
       " './data/validation/I\\\\valid7.png',\n",
       " './data/validation/I\\\\valid8.png',\n",
       " './data/validation/I\\\\valid9.png']"
      ]
     },
     "execution_count": 59,
     "metadata": {},
     "output_type": "execute_result"
    }
   ],
   "source": [
    "files2d = []\n",
    "for i in range(len(subdirs)):\n",
    "    pathis=os.path.join('./data/validation/', subdirs[i],\"*.png\")\n",
    "    files_current = glob.glob(pathis)\n",
    "    files2d.append(files_current)\n",
    "    \n",
    "import itertools\n",
    "files = list(itertools.chain(*files2d))\n",
    "\n",
    "files"
   ]
  },
  {
   "cell_type": "code",
   "execution_count": 60,
   "metadata": {
    "ExecuteTime": {
     "end_time": "2020-07-23T14:11:01.190536Z",
     "start_time": "2020-07-23T14:11:01.185021Z"
    },
    "hidden": true
   },
   "outputs": [],
   "source": [
    "#f=open('files.txt','w')\n",
    "#for ele in files:\n",
    "#    f.write(ele+'\\n')\n",
    "#f.close()\n",
    "\n",
    "with open('files.txt', 'w') as filehandle:\n",
    "    for listitem in files:\n",
    "        filehandle.write('%s\\n' % listitem)"
   ]
  },
  {
   "cell_type": "markdown",
   "metadata": {},
   "source": [
    "### Read images into numpy arrays"
   ]
  },
  {
   "cell_type": "code",
   "execution_count": 61,
   "metadata": {
    "ExecuteTime": {
     "end_time": "2020-07-23T14:13:45.341548Z",
     "start_time": "2020-07-23T14:13:45.333527Z"
    }
   },
   "outputs": [],
   "source": [
    "def im2npa(imagedir, subdirs, show):\n",
    "# create numpy array from directory of images\n",
    "# inputs:\n",
    "# imagedir - directory with the images\n",
    "# subdirs - list of subdirs (classes)\n",
    "# show - if=1, plot files and file names\n",
    "# outputs:\n",
    "# data - numpy array variable with all images as tensor\n",
    "    data = []\n",
    "    for i in range(len(subdirs)):\n",
    "        pathis=os.path.join(imagedir, subdirs[i],\"*.png\")\n",
    "        files = glob.glob(pathis)\n",
    "        for myFile in files:\n",
    "            image = cv2.imread (myFile, cv2.IMREAD_UNCHANGED)\n",
    "            image = cv2.cvtColor(image, cv2.COLOR_BGR2RGB)\n",
    "            image = cv2.resize(image, (IMG_HEIGHT,IMG_WIDTH))\n",
    "            data.append (image)\n",
    "            if show==1:\n",
    "                print(myFile)\n",
    "                imgplot = plt.imshow(image)\n",
    "                plt.show()\n",
    "    \n",
    "    data=np.asarray(data)\n",
    "    print('Data shape:', data.shape)\n",
    "    return data"
   ]
  },
  {
   "cell_type": "code",
   "execution_count": 62,
   "metadata": {
    "ExecuteTime": {
     "end_time": "2020-07-23T14:14:01.242832Z",
     "start_time": "2020-07-23T14:13:58.304520Z"
    }
   },
   "outputs": [
    {
     "name": "stdout",
     "output_type": "stream",
     "text": [
      "Data shape: (1006, 200, 200, 3)\n"
     ]
    }
   ],
   "source": [
    "# x_test=im2npa('./data/validation/', subdirs ,0)\n",
    "x_train=im2npa('./data/train/', subdirs ,0)\n",
    "x_test=x_train"
   ]
  },
  {
   "cell_type": "markdown",
   "metadata": {},
   "source": [
    "### Save to .npz"
   ]
  },
  {
   "cell_type": "code",
   "execution_count": 63,
   "metadata": {
    "ExecuteTime": {
     "end_time": "2020-07-23T14:16:47.050826Z",
     "start_time": "2020-07-23T14:16:46.418145Z"
    }
   },
   "outputs": [],
   "source": [
    "np.savez('vetdata.npz', x_train=x_train, x_test=x_test, y_train=y_train, y_test=y_test)"
   ]
  },
  {
   "cell_type": "code",
   "execution_count": null,
   "metadata": {},
   "outputs": [],
   "source": []
  }
 ],
 "metadata": {
  "celltoolbar": "Initialization Cell",
  "hide_input": false,
  "kernelspec": {
   "display_name": "Python 3 (ipykernel)",
   "language": "python",
   "name": "python3"
  },
  "language_info": {
   "codemirror_mode": {
    "name": "ipython",
    "version": 3
   },
   "file_extension": ".py",
   "mimetype": "text/x-python",
   "name": "python",
   "nbconvert_exporter": "python",
   "pygments_lexer": "ipython3",
   "version": "3.9.13"
  },
  "latex_envs": {
   "LaTeX_envs_menu_present": true,
   "autoclose": false,
   "autocomplete": true,
   "bibliofile": "biblio.bib",
   "cite_by": "apalike",
   "current_citInitial": 1,
   "eqLabelWithNumbers": true,
   "eqNumInitial": 1,
   "hotkeys": {
    "equation": "Ctrl-E",
    "itemize": "Ctrl-I"
   },
   "labels_anchors": false,
   "latex_user_defs": false,
   "report_style_numbering": false,
   "user_envs_cfg": false
  },
  "nbTranslate": {
   "displayLangs": [
    "*"
   ],
   "hotkey": "alt-t",
   "langInMainMenu": true,
   "sourceLang": "en",
   "targetLang": "fr",
   "useGoogleTranslate": true
  },
  "toc": {
   "base_numbering": 1,
   "nav_menu": {},
   "number_sections": true,
   "sideBar": true,
   "skip_h1_title": false,
   "title_cell": "Table of Contents",
   "title_sidebar": "Contents",
   "toc_cell": false,
   "toc_position": {},
   "toc_section_display": true,
   "toc_window_display": false
  },
  "varInspector": {
   "cols": {
    "lenName": 16,
    "lenType": 16,
    "lenVar": 40
   },
   "kernels_config": {
    "python": {
     "delete_cmd_postfix": "",
     "delete_cmd_prefix": "del ",
     "library": "var_list.py",
     "varRefreshCmd": "print(var_dic_list())"
    },
    "r": {
     "delete_cmd_postfix": ") ",
     "delete_cmd_prefix": "rm(",
     "library": "var_list.r",
     "varRefreshCmd": "cat(var_dic_list()) "
    }
   },
   "oldHeight": 538.625,
   "position": {
    "height": "40px",
    "left": "700.323px",
    "right": "20px",
    "top": "112px",
    "width": "419.969px"
   },
   "types_to_exclude": [
    "module",
    "function",
    "builtin_function_or_method",
    "instance",
    "_Feature"
   ],
   "varInspector_section_display": "none",
   "window_display": true
  }
 },
 "nbformat": 4,
 "nbformat_minor": 4
}
